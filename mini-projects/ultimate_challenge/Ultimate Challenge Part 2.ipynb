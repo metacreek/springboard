{
 "cells": [
  {
   "cell_type": "markdown",
   "metadata": {},
   "source": [
    "# Ultimate Challenge Part 2"
   ]
  },
  {
   "cell_type": "markdown",
   "metadata": {},
   "source": [
    "1. In choosing a key metric, we need to look beyond the method used to affect driver behavior (reimbursing tools) and try to determine the ultimate goal of the business.  Because the problem is framed as the need to encourage driver partners to be available in both cities, this suggests that drivers demand and availability is not always balanced and that it would be better for drivers to move between cities.   With better balance, users of the service have a better chance of getting a car quickly when they call for one.  Therefore, we should use the time from the car is requested until it arrives to the customer pickup as the key metrics.  Let us call this time to arrival."
   ]
  },
  {
   "cell_type": "markdown",
   "metadata": {},
   "source": [
    "2. An experiment to determine the effectiveness of the policy change would involve reimbursing tolls for a set period time.   The experiment would compare data from before the change to data from after the change was implemented.  We would need to analyze data from previous years to control for seasonality and we would need to determine the overall trend in changes in the metric to control for its natural changes as usage of the system grows.\n",
    "\n",
    "This experiment would have a \"null hypothesis\" that reimbursing tolls has no effect on time to arrival.  We would use a significance level of 0.05, which means that we would reject the null hypothesis if there is a less than 5 percent chance that any observed differences in data could be attributed to chance.\n",
    "\n",
    "If the time to arrival has reduced by an amount that cannot be attributed to chance, then the experiement has successfully shown the toll reimbursement program is a success.   At this point, the program can be implemented beyond the prescribed experimental period.   The customer may also want to consider other metrics, such as the cost of toll reimbursements.  It is not clear from the problem description how these reimbursements are paid for, so this could have an impact in the success of the project as well.\n"
   ]
  },
  {
   "cell_type": "code",
   "execution_count": null,
   "metadata": {},
   "outputs": [],
   "source": []
  }
 ],
 "metadata": {
  "kernelspec": {
   "display_name": "Python 3",
   "language": "python",
   "name": "python3"
  },
  "language_info": {
   "codemirror_mode": {
    "name": "ipython",
    "version": 3
   },
   "file_extension": ".py",
   "mimetype": "text/x-python",
   "name": "python",
   "nbconvert_exporter": "python",
   "pygments_lexer": "ipython3",
   "version": "3.7.6"
  }
 },
 "nbformat": 4,
 "nbformat_minor": 4
}
